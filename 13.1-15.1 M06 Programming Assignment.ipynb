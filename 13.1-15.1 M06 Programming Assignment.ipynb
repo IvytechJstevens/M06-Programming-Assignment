{
 "cells": [
  {
   "cell_type": "code",
   "execution_count": 1,
   "id": "3424d5a0",
   "metadata": {},
   "outputs": [
    {
     "name": "stdout",
     "output_type": "stream",
     "text": [
      "Current date: 2023-12-03\n",
      "Date from file: 2023-12-03\n",
      "Parsed date: 2023-12-03 00:00:00\n",
      "Day of birth: Monday\n",
      "10,000 days old on: 2026-06-26\n"
     ]
    }
   ],
   "source": [
    "from datetime import datetime, timedelta\n",
    "\n",
    "# 13.1 Write the current date as a string to the text file today.txt.\n",
    "current_date = datetime.now().strftime(\"%Y-%m-%d\")\n",
    "with open(\"today.txt\", \"w\") as file:\n",
    "    file.write(current_date)\n",
    "\n",
    "# 13.2 Read the text file today.txt into the string today_string.\n",
    "with open(\"today.txt\", \"r\") as file:\n",
    "    today_string = file.read()\n",
    "\n",
    "# 13.3 Parse the date from today_string.\n",
    "parsed_date = datetime.strptime(today_string, \"%Y-%m-%d\")\n",
    "\n",
    "# 13.4 Create a date object of your day of birth (February 8th, 1999).\n",
    "dob = datetime.strptime(\"1999-02-08\", \"%Y-%m-%d\")\n",
    "\n",
    "# 13.5 What day of the week was your day of birth?\n",
    "day_of_week_dob = dob.strftime(\"%A\")\n",
    "\n",
    "# 13.6 When will you be (or when were you) 10,000 days old?\n",
    "ten_thousand_days_old = dob + timedelta(days=10000)\n",
    "ten_thousand_days_old_date = ten_thousand_days_old.strftime(\"%Y-%m-%d\")\n",
    "\n",
    "# Print results\n",
    "print(f\"Current date: {current_date}\")\n",
    "print(f\"Date from file: {today_string}\")\n",
    "print(f\"Parsed date: {parsed_date}\")\n",
    "print(f\"Day of birth: {day_of_week_dob}\")\n",
    "print(f\"10,000 days old on: {ten_thousand_days_old_date}\")"
   ]
  },
  {
   "cell_type": "code",
   "execution_count": null,
   "id": "2a1f3836",
   "metadata": {},
   "outputs": [],
   "source": [
    "import multiprocessing\n",
    "import time\n",
    "import random\n",
    "from datetime import datetime\n",
    "\n",
    "def print_current_time():\n",
    "    # Generate a random sleep time between 0 and 1 seconds\n",
    "    sleep_time = random.uniform(0, 1)\n",
    "    \n",
    "    # Wait for the random time\n",
    "    time.sleep(sleep_time)\n",
    "    \n",
    "    # Print the current time\n",
    "    current_time = datetime.now().strftime(\"%Y-%m-%d %H:%M:%S\")\n",
    "    print(f\"Process {multiprocessing.current_process().name}: Current Time - {current_time}\")\n",
    "\n",
    "if __name__ == \"__main__\":\n",
    "    # Create three separate processes\n",
    "    processes = []\n",
    "    for i in range(3):\n",
    "        process = multiprocessing.Process(target=print_current_time, name=f\"Process-{i+1}\")\n",
    "        processes.append(process)\n",
    "        process.start()\n",
    "\n",
    "    # Wait for all processes to finish\n",
    "    for process in processes:\n",
    "        process.join()\n"
   ]
  }
 ],
 "metadata": {
  "kernelspec": {
   "display_name": "Python 3 (ipykernel)",
   "language": "python",
   "name": "python3"
  },
  "language_info": {
   "codemirror_mode": {
    "name": "ipython",
    "version": 3
   },
   "file_extension": ".py",
   "mimetype": "text/x-python",
   "name": "python",
   "nbconvert_exporter": "python",
   "pygments_lexer": "ipython3",
   "version": "3.11.5"
  }
 },
 "nbformat": 4,
 "nbformat_minor": 5
}
